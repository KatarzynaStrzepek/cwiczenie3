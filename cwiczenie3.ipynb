{
  "nbformat": 4,
  "nbformat_minor": 0,
  "metadata": {
    "colab": {
      "provenance": []
    },
    "kernelspec": {
      "name": "python3",
      "display_name": "Python 3"
    },
    "language_info": {
      "name": "python"
    }
  },
  "cells": [
    {
      "cell_type": "markdown",
      "source": [
        "cwiczenie 1"
      ],
      "metadata": {
        "id": "huUrolPQWxUW"
      }
    },
    {
      "cell_type": "code",
      "execution_count": 1,
      "metadata": {
        "colab": {
          "base_uri": "https://localhost:8080/"
        },
        "id": "x4ILSvh77dlh",
        "outputId": "d5eee235-891f-46e6-9fd8-aca8c0e2029b"
      },
      "outputs": [
        {
          "output_type": "stream",
          "name": "stdout",
          "text": [
            "Tytuły publikacji zostały zapisane do pliku.\n"
          ]
        }
      ],
      "source": [
        "from urllib.request import urlopen\n",
        "from urllib.parse import urlencode\n",
        "from lxml import etree\n",
        "\n",
        "# Zdefiniuj autora\n",
        "author_name = \"Krzysztof Murzyn\"\n",
        "\n",
        "# Zdefiniuj bazowy URL dla zapytania\n",
        "base_url = \"https://eutils.ncbi.nlm.nih.gov/entrez/eutils/esearch.fcgi?\"\n",
        "url = base_url + urlencode({\"db\": \"pubmed\", \"term\": author_name + \"[author]\", \"retmax\": 1000})  # Zwiększ retmax, aby pobrać więcej prac\n",
        "\n",
        "# Otwórz URL i przeczytaj XML\n",
        "response = urlopen(url)\n",
        "resultxml = response.read()\n",
        "xml = etree.XML(resultxml)\n",
        "\n",
        "# Pobierz listę ID prac autora\n",
        "resultelements = xml.xpath(\"//Id\")\n",
        "pmid_list = [elem.text for elem in resultelements]\n",
        "\n",
        "# Otwórz plik do zapisu tytułów\n",
        "with open(\"tytuly_publikacji_Krzysztof_Murzyn.txt\", \"w\") as file:\n",
        "    for pmid in pmid_list:\n",
        "        # Pobierz szczegóły pracy po ID\n",
        "        baseurl = \"https://eutils.ncbi.nlm.nih.gov/entrez/eutils/efetch.fcgi?\"\n",
        "        query = \"db=pubmed&id=\" + pmid + \"&format=xml\"\n",
        "        url = baseurl + query\n",
        "        response = urlopen(url)\n",
        "        resultxml = response.read()\n",
        "        xml = etree.XML(resultxml)\n",
        "\n",
        "        # Pobierz tytuł i zapisz go do pliku\n",
        "        resultelements = xml.xpath(\"//ArticleTitle\")\n",
        "        if resultelements:\n",
        "            title = resultelements[0].text\n",
        "            file.write(title + \"\\n\")\n",
        "\n",
        "print(\"Tytuły publikacji zostały zapisane do pliku.\")\n"
      ]
    },
    {
      "cell_type": "markdown",
      "source": [
        "cwiczenie 2"
      ],
      "metadata": {
        "id": "vUq9Om94YxI1"
      }
    },
    {
      "cell_type": "code",
      "source": [
        "from urllib.request import urlopen\n",
        "from urllib.parse import urlencode\n",
        "from lxml import etree\n",
        "\n",
        "\n",
        "author_name = \"Krzysztof Murzyn\"\n",
        "\n",
        "base_url = \"https://eutils.ncbi.nlm.nih.gov/entrez/eutils/esearch.fcgi?\"\n",
        "url = base_url + urlencode({\"db\": \"pubmed\", \"term\": author_name + \"[author]\", \"retmax\": 1000})\n",
        "\n",
        "\n",
        "response = urlopen(url)\n",
        "resultxml = response.read()\n",
        "xml = etree.XML(resultxml)\n",
        "\n",
        "\n",
        "resultelements = xml.xpath(\"//Id\")\n",
        "pmid_list = [elem.text for elem in resultelements]\n",
        "\n",
        "\n",
        "total_molecule_count = 0\n",
        "\n",
        "for pmid in pmid_list:\n",
        "\n",
        "    baseurl = \"https://eutils.ncbi.nlm.nih.gov/entrez/eutils/efetch.fcgi?\"\n",
        "    query = \"db=pubmed&id=\" + pmid + \"&format=xml\"\n",
        "    url = baseurl + query\n",
        "    response = urlopen(url)\n",
        "    resultxml = response.read()\n",
        "    xml = etree.XML(resultxml)\n",
        "\n",
        "\n",
        "    resultelements = xml.xpath(\"//AbstractText\")\n",
        "    if resultelements:\n",
        "        abstract = resultelements[0].text\n",
        "\n",
        "        total_molecule_count += abstract.lower().count(\"molecule\")\n",
        "\n",
        "print(f\"Liczba wystąpień słowa 'molecule' we wszystkich abstraktach prac autorstwa lub współautorstwa Krzysztofa Murzyna: {total_molecule_count}\")\n"
      ],
      "metadata": {
        "colab": {
          "base_uri": "https://localhost:8080/"
        },
        "id": "f2m0SQncXYGv",
        "outputId": "034e2b2b-0ba0-4183-d302-4f59cf212dcf"
      },
      "execution_count": 2,
      "outputs": [
        {
          "output_type": "stream",
          "name": "stdout",
          "text": [
            "Liczba wystąpień słowa 'molecule' we wszystkich abstraktach prac autorstwa lub współautorstwa Krzysztofa Murzyna: 22\n"
          ]
        }
      ]
    },
    {
      "cell_type": "markdown",
      "source": [
        "cwiczenie troche poprawione zeby uniknac wyszukiwania slow np molecules gdzie wystepuje człon molecule"
      ],
      "metadata": {
        "id": "OQDuXJU6i3Ts"
      }
    },
    {
      "cell_type": "code",
      "source": [
        "from urllib.request import urlopen\n",
        "from lxml import etree\n",
        "import re\n",
        "\n",
        "# Zapytanie do bazy PubMed\n",
        "query = \"https://eutils.ncbi.nlm.nih.gov/entrez/eutils/esearch.fcgi?db=pubmed&term=Krzysztof%20Murzyn&retmax=100\"\n",
        "response = urlopen(query)\n",
        "resultxml = response.read()\n",
        "xml = etree.XML(resultxml)\n",
        "id_list = [id_elem.text for id_elem in xml.findall(\".//Id\")]\n",
        "\n",
        "\n",
        "word_count = 0\n",
        "\n",
        "# Przeszukiwanie abstraktów\n",
        "for pmid in id_list:\n",
        "    query = f\"https://eutils.ncbi.nlm.nih.gov/entrez/eutils/efetch.fcgi?db=pubmed&id={pmid}&rettype=abstract&retmode=text\"\n",
        "    response = urlopen(query)\n",
        "    abstract = response.read().decode(\"utf-8\")\n",
        "\n",
        "    # Sprawdzenie ilości\n",
        "    word_count += len(re.findall(r'\\bmolecule\\b', abstract, re.IGNORECASE))\n",
        "\n",
        "\n",
        "print(\"Liczba wystąpień słowa 'molecule' we wszystkich abstraktach prac autorstwa lub współautorstwa Krzysztofa Murzyna:\", word_count)"
      ],
      "metadata": {
        "colab": {
          "base_uri": "https://localhost:8080/"
        },
        "id": "ZUmfKWL1i-oX",
        "outputId": "b2b9032b-7d6a-4260-b39e-9cb3aeb58b48"
      },
      "execution_count": 9,
      "outputs": [
        {
          "output_type": "stream",
          "name": "stdout",
          "text": [
            "Liczba wystąpień słowa 'molecule' we wszystkich abstraktach prac autorstwa lub współautorstwa Krzysztofa Murzyna: 2\n"
          ]
        }
      ]
    },
    {
      "cell_type": "markdown",
      "source": [
        "cwiczenie 3"
      ],
      "metadata": {
        "id": "Pok1s7bmZRhG"
      }
    },
    {
      "cell_type": "code",
      "source": [
        "from urllib.request import urlopen\n",
        "from lxml import etree\n",
        "\n",
        "# Lista ID sekwencji do pobrania\n",
        "sequence_ids = ['NM_001012006.1', 'MK560199.1', 'AB046569.1']\n",
        "\n",
        "# Baza URL NCBI E-Utilities\n",
        "baseurl = \"https://eutils.ncbi.nlm.nih.gov/entrez/eutils/efetch.fcgi?\"\n",
        "format = \"fasta\"  # Format FASTA\n",
        "\n",
        "\n",
        "for sequence_id in sequence_ids:\n",
        "    # Zbuduj zapytanie\n",
        "    query = f\"db=nucleotide&id={sequence_id}&rettype={format}&retmode=text\"\n",
        "    url = baseurl + query\n",
        "\n",
        "    # Otwórz URL i przeczytaj sekwencję w formacie FASTA\n",
        "    with urlopen(url) as f:\n",
        "        fasta_sequence = f.read().decode(\"utf-8\")\n",
        "\n",
        "    # Przetwórz sekwencję FASTA\n",
        "    fasta_lines = fasta_sequence.strip().split('\\n')\n",
        "    header = fasta_lines[0] if len(fasta_lines) > 0 else \"\"  # Nagłówek FASTA\n",
        "    sequence = ''.join(fasta_lines[1:])  # Sekwencja FASTA\n",
        "\n",
        "    # Wyciągnij nazwę organizmu z nagłówka\n",
        "    organism = header.split('|')[1] if len(header.split('|')) > 1 else sequence_id\n",
        "\n",
        "    # Zapisz sekwencję do pliku FASTA\n",
        "    filename = f\"{organism}.fasta\"\n",
        "    with open(filename, 'w') as fasta_file:\n",
        "        fasta_file.write(header + '\\n')\n",
        "        fasta_file.write(sequence + '\\n')\n",
        "\n",
        "    print(f\"Sekwencja zapisana do pliku {filename}\")\n"
      ],
      "metadata": {
        "colab": {
          "base_uri": "https://localhost:8080/"
        },
        "id": "5qz3hiSHZS9t",
        "outputId": "64dda087-908c-4a01-e837-dd6cfe0659f8"
      },
      "execution_count": 16,
      "outputs": [
        {
          "output_type": "stream",
          "name": "stdout",
          "text": [
            "Sekwencja zapisana do pliku NM_001012006.1.fasta\n",
            "Sekwencja zapisana do pliku MK560199.1.fasta\n",
            "Sekwencja zapisana do pliku AB046569.1.fasta\n"
          ]
        }
      ]
    },
    {
      "cell_type": "markdown",
      "source": [
        "cwiczenie 4"
      ],
      "metadata": {
        "id": "plrMuG5SaA2A"
      }
    },
    {
      "cell_type": "code",
      "source": [
        "import pubchempy as pcp\n",
        "\n",
        "# Znajdź Lopinavir w bazie PubChem\n",
        "lop = pcp.get_compounds(\"Lopinavir\", 'name')\n",
        "\n",
        "if lop:\n",
        "    lopinavir = lop[0]\n",
        "    mass = lopinavir.molecular_weight\n",
        "    print(f\"Masa molekuły Lopinavir'u: {mass} g/mol\")\n",
        "else:\n",
        "    print(\"Nie znaleziono informacji o Lopinavir w bazie PubChem.\")\n"
      ],
      "metadata": {
        "colab": {
          "base_uri": "https://localhost:8080/",
          "height": 383
        },
        "id": "yKZmww1Vaf4V",
        "outputId": "b972a1c1-36dd-4814-c4cb-de491b110ae3"
      },
      "execution_count": 5,
      "outputs": [
        {
          "output_type": "error",
          "ename": "ModuleNotFoundError",
          "evalue": "ignored",
          "traceback": [
            "\u001b[0;31m---------------------------------------------------------------------------\u001b[0m",
            "\u001b[0;31mModuleNotFoundError\u001b[0m                       Traceback (most recent call last)",
            "\u001b[0;32m<ipython-input-5-3657b9153f0e>\u001b[0m in \u001b[0;36m<cell line: 1>\u001b[0;34m()\u001b[0m\n\u001b[0;32m----> 1\u001b[0;31m \u001b[0;32mimport\u001b[0m \u001b[0mpubchempy\u001b[0m \u001b[0;32mas\u001b[0m \u001b[0mpcp\u001b[0m\u001b[0;34m\u001b[0m\u001b[0;34m\u001b[0m\u001b[0m\n\u001b[0m\u001b[1;32m      2\u001b[0m \u001b[0;34m\u001b[0m\u001b[0m\n\u001b[1;32m      3\u001b[0m \u001b[0;31m# Znajdź Lopinavir w bazie PubChem\u001b[0m\u001b[0;34m\u001b[0m\u001b[0;34m\u001b[0m\u001b[0m\n\u001b[1;32m      4\u001b[0m \u001b[0mlop\u001b[0m \u001b[0;34m=\u001b[0m \u001b[0mpcp\u001b[0m\u001b[0;34m.\u001b[0m\u001b[0mget_compounds\u001b[0m\u001b[0;34m(\u001b[0m\u001b[0;34m\"Lopinavir\"\u001b[0m\u001b[0;34m,\u001b[0m \u001b[0;34m'name'\u001b[0m\u001b[0;34m)\u001b[0m\u001b[0;34m\u001b[0m\u001b[0;34m\u001b[0m\u001b[0m\n\u001b[1;32m      5\u001b[0m \u001b[0;34m\u001b[0m\u001b[0m\n",
            "\u001b[0;31mModuleNotFoundError\u001b[0m: No module named 'pubchempy'",
            "",
            "\u001b[0;31m---------------------------------------------------------------------------\u001b[0;32m\nNOTE: If your import is failing due to a missing package, you can\nmanually install dependencies using either !pip or !apt.\n\nTo view examples of installing some common dependencies, click the\n\"Open Examples\" button below.\n\u001b[0;31m---------------------------------------------------------------------------\u001b[0m\n"
          ],
          "errorDetails": {
            "actions": [
              {
                "action": "open_url",
                "actionText": "Open Examples",
                "url": "/notebooks/snippets/importing_libraries.ipynb"
              }
            ]
          }
        }
      ]
    },
    {
      "cell_type": "code",
      "source": [
        "from urllib.request import urlopen\n",
        "from lxml import etree\n",
        "from IPython.display import Image\n",
        "\n",
        "# Zapytanie/pobranie i odczytanie pliku XML o Lopinavir\n",
        "query = \"https://pubchem.ncbi.nlm.nih.gov/rest/pug/compound/name/Lopinavir/XML\"\n",
        "response = urlopen(query)\n",
        "resultxml = response.read()\n",
        "tree = etree.XML(resultxml)\n",
        "\n",
        "# Pobranie formatu SMILES\n",
        "sek = []\n",
        "for element in tree.iter():\n",
        "    if element.tag == \"{http://www.ncbi.nlm.nih.gov}PC-InfoData_value_sval\":\n",
        "        sek.append(element.text)\n",
        "\n",
        "# Pobranie formatu SMILES (SMILES znajduje się przedostatnim elementem na liście)\n",
        "smiles = sek[-2]\n",
        "\n",
        "# Rysuje strukturę Lopinavir'u w oparciu o SMILES\n",
        "urlretrieve('https://pubchem.ncbi.nlm.nih.gov/rest/pug/compound/smiles/' + smiles + '/PNG', 'smi_pic.png')\n",
        "p = Image(filename='smi_pic.png')\n",
        "display(p)\n",
        "\n",
        "# Obliczenie masy molekuły\n",
        "query = \"https://pubchem.ncbi.nlm.nih.gov/rest/pug/compound/record/property/MolecularWeight/JSON?cid=\" + smiles\n",
        "response = urlopen(query)\n",
        "resultjson = response.read().decode('utf-8')\n",
        "\n",
        "import json\n",
        "data = json.loads(resultjson)\n",
        "\n",
        "if 'PropertyTable' in data and 'Properties' in data['PropertyTable']:\n",
        "    properties = data['PropertyTable']['Properties']\n",
        "    mass = properties[0]['Value']\n",
        "\n",
        "    print(f\"Masa molekuły Lopinavir'u: {mass} g/mol\")\n",
        "else:\n",
        "    print(\"Nie udało się znaleźć informacji o Lopinavir w bazie PubChem.\")\n",
        "\n"
      ],
      "metadata": {
        "colab": {
          "base_uri": "https://localhost:8080/",
          "height": 707
        },
        "id": "_3wnxCPPaCHm",
        "outputId": "73499cf6-7e54-4e24-960f-ee6958e660be"
      },
      "execution_count": 6,
      "outputs": [
        {
          "output_type": "display_data",
          "data": {
            "image/png": "[encoded data removed]",
            "text/plain": [
              "<IPython.core.display.Image object>"
            ]
          },
          "metadata": {}
        },
        {
          "output_type": "error",
          "ename": "HTTPError",
          "evalue": "ignored",
          "traceback": [
            "\u001b[0;31m---------------------------------------------------------------------------\u001b[0m",
            "\u001b[0;31mHTTPError\u001b[0m                                 Traceback (most recent call last)",
            "\u001b[0;32m<ipython-input-6-8a722e7c5661>\u001b[0m in \u001b[0;36m<cell line: 27>\u001b[0;34m()\u001b[0m\n\u001b[1;32m     25\u001b[0m \u001b[0;31m# Obliczenie masy molekuły\u001b[0m\u001b[0;34m\u001b[0m\u001b[0;34m\u001b[0m\u001b[0m\n\u001b[1;32m     26\u001b[0m \u001b[0mquery\u001b[0m \u001b[0;34m=\u001b[0m \u001b[0;34m\"https://pubchem.ncbi.nlm.nih.gov/rest/pug/compound/record/property/MolecularWeight/JSON?cid=\"\u001b[0m \u001b[0;34m+\u001b[0m \u001b[0msmiles\u001b[0m\u001b[0;34m\u001b[0m\u001b[0;34m\u001b[0m\u001b[0m\n\u001b[0;32m---> 27\u001b[0;31m \u001b[0mresponse\u001b[0m \u001b[0;34m=\u001b[0m \u001b[0murlopen\u001b[0m\u001b[0;34m(\u001b[0m\u001b[0mquery\u001b[0m\u001b[0;34m)\u001b[0m\u001b[0;34m\u001b[0m\u001b[0;34m\u001b[0m\u001b[0m\n\u001b[0m\u001b[1;32m     28\u001b[0m \u001b[0mresultjson\u001b[0m \u001b[0;34m=\u001b[0m \u001b[0mresponse\u001b[0m\u001b[0;34m.\u001b[0m\u001b[0mread\u001b[0m\u001b[0;34m(\u001b[0m\u001b[0;34m)\u001b[0m\u001b[0;34m.\u001b[0m\u001b[0mdecode\u001b[0m\u001b[0;34m(\u001b[0m\u001b[0;34m'utf-8'\u001b[0m\u001b[0;34m)\u001b[0m\u001b[0;34m\u001b[0m\u001b[0;34m\u001b[0m\u001b[0m\n\u001b[1;32m     29\u001b[0m \u001b[0;34m\u001b[0m\u001b[0m\n",
            "\u001b[0;32m/usr/lib/python3.10/urllib/request.py\u001b[0m in \u001b[0;36murlopen\u001b[0;34m(url, data, timeout, cafile, capath, cadefault, context)\u001b[0m\n\u001b[1;32m    214\u001b[0m     \u001b[0;32melse\u001b[0m\u001b[0;34m:\u001b[0m\u001b[0;34m\u001b[0m\u001b[0;34m\u001b[0m\u001b[0m\n\u001b[1;32m    215\u001b[0m         \u001b[0mopener\u001b[0m \u001b[0;34m=\u001b[0m \u001b[0m_opener\u001b[0m\u001b[0;34m\u001b[0m\u001b[0;34m\u001b[0m\u001b[0m\n\u001b[0;32m--> 216\u001b[0;31m     \u001b[0;32mreturn\u001b[0m \u001b[0mopener\u001b[0m\u001b[0;34m.\u001b[0m\u001b[0mopen\u001b[0m\u001b[0;34m(\u001b[0m\u001b[0murl\u001b[0m\u001b[0;34m,\u001b[0m \u001b[0mdata\u001b[0m\u001b[0;34m,\u001b[0m \u001b[0mtimeout\u001b[0m\u001b[0;34m)\u001b[0m\u001b[0;34m\u001b[0m\u001b[0;34m\u001b[0m\u001b[0m\n\u001b[0m\u001b[1;32m    217\u001b[0m \u001b[0;34m\u001b[0m\u001b[0m\n\u001b[1;32m    218\u001b[0m \u001b[0;32mdef\u001b[0m \u001b[0minstall_opener\u001b[0m\u001b[0;34m(\u001b[0m\u001b[0mopener\u001b[0m\u001b[0;34m)\u001b[0m\u001b[0;34m:\u001b[0m\u001b[0;34m\u001b[0m\u001b[0;34m\u001b[0m\u001b[0m\n",
            "\u001b[0;32m/usr/lib/python3.10/urllib/request.py\u001b[0m in \u001b[0;36mopen\u001b[0;34m(self, fullurl, data, timeout)\u001b[0m\n\u001b[1;32m    523\u001b[0m         \u001b[0;32mfor\u001b[0m \u001b[0mprocessor\u001b[0m \u001b[0;32min\u001b[0m \u001b[0mself\u001b[0m\u001b[0;34m.\u001b[0m\u001b[0mprocess_response\u001b[0m\u001b[0;34m.\u001b[0m\u001b[0mget\u001b[0m\u001b[0;34m(\u001b[0m\u001b[0mprotocol\u001b[0m\u001b[0;34m,\u001b[0m \u001b[0;34m[\u001b[0m\u001b[0;34m]\u001b[0m\u001b[0;34m)\u001b[0m\u001b[0;34m:\u001b[0m\u001b[0;34m\u001b[0m\u001b[0;34m\u001b[0m\u001b[0m\n\u001b[1;32m    524\u001b[0m             \u001b[0mmeth\u001b[0m \u001b[0;34m=\u001b[0m \u001b[0mgetattr\u001b[0m\u001b[0;34m(\u001b[0m\u001b[0mprocessor\u001b[0m\u001b[0;34m,\u001b[0m \u001b[0mmeth_name\u001b[0m\u001b[0;34m)\u001b[0m\u001b[0;34m\u001b[0m\u001b[0;34m\u001b[0m\u001b[0m\n\u001b[0;32m--> 525\u001b[0;31m             \u001b[0mresponse\u001b[0m \u001b[0;34m=\u001b[0m \u001b[0mmeth\u001b[0m\u001b[0;34m(\u001b[0m\u001b[0mreq\u001b[0m\u001b[0;34m,\u001b[0m \u001b[0mresponse\u001b[0m\u001b[0;34m)\u001b[0m\u001b[0;34m\u001b[0m\u001b[0;34m\u001b[0m\u001b[0m\n\u001b[0m\u001b[1;32m    526\u001b[0m \u001b[0;34m\u001b[0m\u001b[0m\n\u001b[1;32m    527\u001b[0m         \u001b[0;32mreturn\u001b[0m \u001b[0mresponse\u001b[0m\u001b[0;34m\u001b[0m\u001b[0;34m\u001b[0m\u001b[0m\n",
            "\u001b[0;32m/usr/lib/python3.10/urllib/request.py\u001b[0m in \u001b[0;36mhttp_response\u001b[0;34m(self, request, response)\u001b[0m\n\u001b[1;32m    632\u001b[0m         \u001b[0;31m# request was successfully received, understood, and accepted.\u001b[0m\u001b[0;34m\u001b[0m\u001b[0;34m\u001b[0m\u001b[0m\n\u001b[1;32m    633\u001b[0m         \u001b[0;32mif\u001b[0m \u001b[0;32mnot\u001b[0m \u001b[0;34m(\u001b[0m\u001b[0;36m200\u001b[0m \u001b[0;34m<=\u001b[0m \u001b[0mcode\u001b[0m \u001b[0;34m<\u001b[0m \u001b[0;36m300\u001b[0m\u001b[0;34m)\u001b[0m\u001b[0;34m:\u001b[0m\u001b[0;34m\u001b[0m\u001b[0;34m\u001b[0m\u001b[0m\n\u001b[0;32m--> 634\u001b[0;31m             response = self.parent.error(\n\u001b[0m\u001b[1;32m    635\u001b[0m                 'http', request, response, code, msg, hdrs)\n\u001b[1;32m    636\u001b[0m \u001b[0;34m\u001b[0m\u001b[0m\n",
            "\u001b[0;32m/usr/lib/python3.10/urllib/request.py\u001b[0m in \u001b[0;36merror\u001b[0;34m(self, proto, *args)\u001b[0m\n\u001b[1;32m    561\u001b[0m         \u001b[0;32mif\u001b[0m \u001b[0mhttp_err\u001b[0m\u001b[0;34m:\u001b[0m\u001b[0;34m\u001b[0m\u001b[0;34m\u001b[0m\u001b[0m\n\u001b[1;32m    562\u001b[0m             \u001b[0margs\u001b[0m \u001b[0;34m=\u001b[0m \u001b[0;34m(\u001b[0m\u001b[0mdict\u001b[0m\u001b[0;34m,\u001b[0m \u001b[0;34m'default'\u001b[0m\u001b[0;34m,\u001b[0m \u001b[0;34m'http_error_default'\u001b[0m\u001b[0;34m)\u001b[0m \u001b[0;34m+\u001b[0m \u001b[0morig_args\u001b[0m\u001b[0;34m\u001b[0m\u001b[0;34m\u001b[0m\u001b[0m\n\u001b[0;32m--> 563\u001b[0;31m             \u001b[0;32mreturn\u001b[0m \u001b[0mself\u001b[0m\u001b[0;34m.\u001b[0m\u001b[0m_call_chain\u001b[0m\u001b[0;34m(\u001b[0m\u001b[0;34m*\u001b[0m\u001b[0margs\u001b[0m\u001b[0;34m)\u001b[0m\u001b[0;34m\u001b[0m\u001b[0;34m\u001b[0m\u001b[0m\n\u001b[0m\u001b[1;32m    564\u001b[0m \u001b[0;34m\u001b[0m\u001b[0m\n\u001b[1;32m    565\u001b[0m \u001b[0;31m# XXX probably also want an abstract factory that knows when it makes\u001b[0m\u001b[0;34m\u001b[0m\u001b[0;34m\u001b[0m\u001b[0m\n",
            "\u001b[0;32m/usr/lib/python3.10/urllib/request.py\u001b[0m in \u001b[0;36m_call_chain\u001b[0;34m(self, chain, kind, meth_name, *args)\u001b[0m\n\u001b[1;32m    494\u001b[0m         \u001b[0;32mfor\u001b[0m \u001b[0mhandler\u001b[0m \u001b[0;32min\u001b[0m \u001b[0mhandlers\u001b[0m\u001b[0;34m:\u001b[0m\u001b[0;34m\u001b[0m\u001b[0;34m\u001b[0m\u001b[0m\n\u001b[1;32m    495\u001b[0m             \u001b[0mfunc\u001b[0m \u001b[0;34m=\u001b[0m \u001b[0mgetattr\u001b[0m\u001b[0;34m(\u001b[0m\u001b[0mhandler\u001b[0m\u001b[0;34m,\u001b[0m \u001b[0mmeth_name\u001b[0m\u001b[0;34m)\u001b[0m\u001b[0;34m\u001b[0m\u001b[0;34m\u001b[0m\u001b[0m\n\u001b[0;32m--> 496\u001b[0;31m             \u001b[0mresult\u001b[0m \u001b[0;34m=\u001b[0m \u001b[0mfunc\u001b[0m\u001b[0;34m(\u001b[0m\u001b[0;34m*\u001b[0m\u001b[0margs\u001b[0m\u001b[0;34m)\u001b[0m\u001b[0;34m\u001b[0m\u001b[0;34m\u001b[0m\u001b[0m\n\u001b[0m\u001b[1;32m    497\u001b[0m             \u001b[0;32mif\u001b[0m \u001b[0mresult\u001b[0m \u001b[0;32mis\u001b[0m \u001b[0;32mnot\u001b[0m \u001b[0;32mNone\u001b[0m\u001b[0;34m:\u001b[0m\u001b[0;34m\u001b[0m\u001b[0;34m\u001b[0m\u001b[0m\n\u001b[1;32m    498\u001b[0m                 \u001b[0;32mreturn\u001b[0m \u001b[0mresult\u001b[0m\u001b[0;34m\u001b[0m\u001b[0;34m\u001b[0m\u001b[0m\n",
            "\u001b[0;32m/usr/lib/python3.10/urllib/request.py\u001b[0m in \u001b[0;36mhttp_error_default\u001b[0;34m(self, req, fp, code, msg, hdrs)\u001b[0m\n\u001b[1;32m    641\u001b[0m \u001b[0;32mclass\u001b[0m \u001b[0mHTTPDefaultErrorHandler\u001b[0m\u001b[0;34m(\u001b[0m\u001b[0mBaseHandler\u001b[0m\u001b[0;34m)\u001b[0m\u001b[0;34m:\u001b[0m\u001b[0;34m\u001b[0m\u001b[0;34m\u001b[0m\u001b[0m\n\u001b[1;32m    642\u001b[0m     \u001b[0;32mdef\u001b[0m \u001b[0mhttp_error_default\u001b[0m\u001b[0;34m(\u001b[0m\u001b[0mself\u001b[0m\u001b[0;34m,\u001b[0m \u001b[0mreq\u001b[0m\u001b[0;34m,\u001b[0m \u001b[0mfp\u001b[0m\u001b[0;34m,\u001b[0m \u001b[0mcode\u001b[0m\u001b[0;34m,\u001b[0m \u001b[0mmsg\u001b[0m\u001b[0;34m,\u001b[0m \u001b[0mhdrs\u001b[0m\u001b[0;34m)\u001b[0m\u001b[0;34m:\u001b[0m\u001b[0;34m\u001b[0m\u001b[0;34m\u001b[0m\u001b[0m\n\u001b[0;32m--> 643\u001b[0;31m         \u001b[0;32mraise\u001b[0m \u001b[0mHTTPError\u001b[0m\u001b[0;34m(\u001b[0m\u001b[0mreq\u001b[0m\u001b[0;34m.\u001b[0m\u001b[0mfull_url\u001b[0m\u001b[0;34m,\u001b[0m \u001b[0mcode\u001b[0m\u001b[0;34m,\u001b[0m \u001b[0mmsg\u001b[0m\u001b[0;34m,\u001b[0m \u001b[0mhdrs\u001b[0m\u001b[0;34m,\u001b[0m \u001b[0mfp\u001b[0m\u001b[0;34m)\u001b[0m\u001b[0;34m\u001b[0m\u001b[0;34m\u001b[0m\u001b[0m\n\u001b[0m\u001b[1;32m    644\u001b[0m \u001b[0;34m\u001b[0m\u001b[0m\n\u001b[1;32m    645\u001b[0m \u001b[0;32mclass\u001b[0m \u001b[0mHTTPRedirectHandler\u001b[0m\u001b[0;34m(\u001b[0m\u001b[0mBaseHandler\u001b[0m\u001b[0;34m)\u001b[0m\u001b[0;34m:\u001b[0m\u001b[0;34m\u001b[0m\u001b[0;34m\u001b[0m\u001b[0m\n",
            "\u001b[0;31mHTTPError\u001b[0m: HTTP Error 400: PUGREST.BadRequest"
          ]
        }
      ]
    },
    {
      "cell_type": "code",
      "source": [
        "import requests\n",
        "\n",
        "# Funkcja do pobrania informacji o masie molekuły\n",
        "def get_molecular_weight(name):\n",
        "    base_url = \"https://pubchem.ncbi.nlm.nih.gov/rest/pug/compound/name/\"\n",
        "    search_url = f\"{base_url}{name}/property/MolecularWeight/JSON\"\n",
        "\n",
        "    response = requests.get(search_url)\n",
        "    if response.status_code == 200:\n",
        "        data = response.json()\n",
        "        weight = data['PropertyTable']['Properties'][0]['MolecularWeight']\n",
        "        return weight\n",
        "    else:\n",
        "        return None\n",
        "\n",
        "# Nazwa związku (Lopinavir)\n",
        "compound_name = \"Lopinavir\"\n",
        "\n",
        "# Pobierz masę molekuły\n",
        "molecular_weight = get_molecular_weight(compound_name)\n",
        "\n",
        "if molecular_weight is not None:\n",
        "    print(f\"Masa molekuły {compound_name}: {molecular_weight} g/mol\")\n",
        "else:\n",
        "    print(f\"Nie udało się znaleźć informacji o masie molekuły {compound_name}.\")\n"
      ],
      "metadata": {
        "colab": {
          "base_uri": "https://localhost:8080/"
        },
        "id": "AZe-XFeiTnu8",
        "outputId": "fc1918cd-f959-4fc9-c262-c077e770ba10"
      },
      "execution_count": 5,
      "outputs": [
        {
          "output_type": "stream",
          "name": "stdout",
          "text": [
            "Masa molekuły Lopinavir: 628.8 g/mol\n"
          ]
        }
      ]
    },
    {
      "cell_type": "code",
      "source": [
        "!pip install rdkit-pypi\n"
      ],
      "metadata": {
        "colab": {
          "base_uri": "https://localhost:8080/"
        },
        "id": "9bQYUAe8UaUO",
        "outputId": "05b922ba-59f3-40ed-ea31-c492cc0588d4"
      },
      "execution_count": 8,
      "outputs": [
        {
          "output_type": "stream",
          "name": "stdout",
          "text": [
            "Collecting rdkit-pypi\n",
            "  Downloading rdkit_pypi-2022.9.5-cp310-cp310-manylinux_2_17_x86_64.manylinux2014_x86_64.whl (29.4 MB)\n",
            "\u001b[2K     \u001b[90m━━━━━━━━━━━━━━━━━━━━━━━━━━━━━━━━━━━━━━━━\u001b[0m \u001b[32m29.4/29.4 MB\u001b[0m \u001b[31m49.5 MB/s\u001b[0m eta \u001b[36m0:00:00\u001b[0m\n",
            "\u001b[?25hRequirement already satisfied: numpy in /usr/local/lib/python3.10/dist-packages (from rdkit-pypi) (1.23.5)\n",
            "Requirement already satisfied: Pillow in /usr/local/lib/python3.10/dist-packages (from rdkit-pypi) (9.4.0)\n",
            "Installing collected packages: rdkit-pypi\n",
            "Successfully installed rdkit-pypi-2022.9.5\n"
          ]
        }
      ]
    },
    {
      "cell_type": "code",
      "source": [
        "from rdkit import Chem\n",
        "from rdkit.Chem import Draw\n",
        "\n",
        "# Pobierz SMILES dla Lopinavir'u\n",
        "from urllib.request import urlopen\n",
        "from lxml import etree\n",
        "\n",
        "query = \"https://pubchem.ncbi.nlm.nih.gov/rest/pug/compound/name/Lopinavir/property/CanonicalSMILES/XML\"\n",
        "response = urlopen(query)\n",
        "resultxml = response.read()\n",
        "tree = etree.XML(resultxml)\n",
        "smiles = tree.find(\".//Information/Value\").text\n",
        "\n",
        "# Wizualizacja struktury na podstawie SMILES\n",
        "mol = Chem.MolFromSmiles(smiles)\n",
        "img = Draw.MolToImage(mol)\n",
        "\n",
        "# Oblicz masę molekuły\n",
        "from rdkit.Chem import Descriptors\n",
        "molecular_weight = Descriptors.MolWt(mol)\n",
        "\n",
        "# Wyświetl wizualizację i masę molekuły\n",
        "img.show()\n",
        "print(f\"SMILES: {smiles}\")\n",
        "print(f\"Masa molekuły: {molecular_weight} g/mol\")\n",
        "\n",
        "\n"
      ],
      "metadata": {
        "colab": {
          "base_uri": "https://localhost:8080/",
          "height": 245
        },
        "id": "_VJ8uq1cUXT_",
        "outputId": "a93424cf-1672-4040-e13b-3b708f315e37"
      },
      "execution_count": 11,
      "outputs": [
        {
          "output_type": "error",
          "ename": "AttributeError",
          "evalue": "ignored",
          "traceback": [
            "\u001b[0;31m---------------------------------------------------------------------------\u001b[0m",
            "\u001b[0;31mAttributeError\u001b[0m                            Traceback (most recent call last)",
            "\u001b[0;32m<ipython-input-11-7e300a70fee3>\u001b[0m in \u001b[0;36m<cell line: 12>\u001b[0;34m()\u001b[0m\n\u001b[1;32m     10\u001b[0m \u001b[0mresultxml\u001b[0m \u001b[0;34m=\u001b[0m \u001b[0mresponse\u001b[0m\u001b[0;34m.\u001b[0m\u001b[0mread\u001b[0m\u001b[0;34m(\u001b[0m\u001b[0;34m)\u001b[0m\u001b[0;34m\u001b[0m\u001b[0;34m\u001b[0m\u001b[0m\n\u001b[1;32m     11\u001b[0m \u001b[0mtree\u001b[0m \u001b[0;34m=\u001b[0m \u001b[0metree\u001b[0m\u001b[0;34m.\u001b[0m\u001b[0mXML\u001b[0m\u001b[0;34m(\u001b[0m\u001b[0mresultxml\u001b[0m\u001b[0;34m)\u001b[0m\u001b[0;34m\u001b[0m\u001b[0;34m\u001b[0m\u001b[0m\n\u001b[0;32m---> 12\u001b[0;31m \u001b[0msmiles\u001b[0m \u001b[0;34m=\u001b[0m \u001b[0mtree\u001b[0m\u001b[0;34m.\u001b[0m\u001b[0mfind\u001b[0m\u001b[0;34m(\u001b[0m\u001b[0;34m\".//Information/Value\"\u001b[0m\u001b[0;34m)\u001b[0m\u001b[0;34m.\u001b[0m\u001b[0mtext\u001b[0m\u001b[0;34m\u001b[0m\u001b[0;34m\u001b[0m\u001b[0m\n\u001b[0m\u001b[1;32m     13\u001b[0m \u001b[0;34m\u001b[0m\u001b[0m\n\u001b[1;32m     14\u001b[0m \u001b[0;31m# Wizualizacja struktury na podstawie SMILES\u001b[0m\u001b[0;34m\u001b[0m\u001b[0;34m\u001b[0m\u001b[0m\n",
            "\u001b[0;31mAttributeError\u001b[0m: 'NoneType' object has no attribute 'text'"
          ]
        }
      ]
    },
    {
      "cell_type": "code",
      "source": [
        "pip install chembl-webresource-client\n"
      ],
      "metadata": {
        "colab": {
          "base_uri": "https://localhost:8080/"
        },
        "id": "b8LT46eiVfFd",
        "outputId": "30fa2db7-3231-4cd8-bd18-a839dc4a1f47"
      },
      "execution_count": 12,
      "outputs": [
        {
          "output_type": "stream",
          "name": "stdout",
          "text": [
            "Collecting chembl-webresource-client\n",
            "  Downloading chembl_webresource_client-0.10.8-py3-none-any.whl (55 kB)\n",
            "\u001b[2K     \u001b[90m━━━━━━━━━━━━━━━━━━━━━━━━━━━━━━━━━━━━━━━━\u001b[0m \u001b[32m55.2/55.2 kB\u001b[0m \u001b[31m1.6 MB/s\u001b[0m eta \u001b[36m0:00:00\u001b[0m\n",
            "\u001b[?25hRequirement already satisfied: urllib3 in /usr/local/lib/python3.10/dist-packages (from chembl-webresource-client) (2.0.7)\n",
            "Requirement already satisfied: requests>=2.18.4 in /usr/local/lib/python3.10/dist-packages (from chembl-webresource-client) (2.31.0)\n",
            "Collecting requests-cache~=0.7.0 (from chembl-webresource-client)\n",
            "  Downloading requests_cache-0.7.5-py3-none-any.whl (39 kB)\n",
            "Requirement already satisfied: easydict in /usr/local/lib/python3.10/dist-packages (from chembl-webresource-client) (1.11)\n",
            "Requirement already satisfied: charset-normalizer<4,>=2 in /usr/local/lib/python3.10/dist-packages (from requests>=2.18.4->chembl-webresource-client) (3.3.1)\n",
            "Requirement already satisfied: idna<4,>=2.5 in /usr/local/lib/python3.10/dist-packages (from requests>=2.18.4->chembl-webresource-client) (3.4)\n",
            "Requirement already satisfied: certifi>=2017.4.17 in /usr/local/lib/python3.10/dist-packages (from requests>=2.18.4->chembl-webresource-client) (2023.7.22)\n",
            "Collecting attrs<22.0,>=21.2 (from requests-cache~=0.7.0->chembl-webresource-client)\n",
            "  Downloading attrs-21.4.0-py2.py3-none-any.whl (60 kB)\n",
            "\u001b[2K     \u001b[90m━━━━━━━━━━━━━━━━━━━━━━━━━━━━━━━━━━━━━━━━\u001b[0m \u001b[32m60.6/60.6 kB\u001b[0m \u001b[31m5.3 MB/s\u001b[0m eta \u001b[36m0:00:00\u001b[0m\n",
            "\u001b[?25hRequirement already satisfied: itsdangerous>=2.0.1 in /usr/local/lib/python3.10/dist-packages (from requests-cache~=0.7.0->chembl-webresource-client) (2.1.2)\n",
            "Requirement already satisfied: pyyaml>=5.4 in /usr/local/lib/python3.10/dist-packages (from requests-cache~=0.7.0->chembl-webresource-client) (6.0.1)\n",
            "Collecting url-normalize<2.0,>=1.4 (from requests-cache~=0.7.0->chembl-webresource-client)\n",
            "  Downloading url_normalize-1.4.3-py2.py3-none-any.whl (6.8 kB)\n",
            "Requirement already satisfied: six in /usr/local/lib/python3.10/dist-packages (from url-normalize<2.0,>=1.4->requests-cache~=0.7.0->chembl-webresource-client) (1.16.0)\n",
            "Installing collected packages: url-normalize, attrs, requests-cache, chembl-webresource-client\n",
            "  Attempting uninstall: attrs\n",
            "    Found existing installation: attrs 23.1.0\n",
            "    Uninstalling attrs-23.1.0:\n",
            "      Successfully uninstalled attrs-23.1.0\n",
            "\u001b[31mERROR: pip's dependency resolver does not currently take into account all the packages that are installed. This behaviour is the source of the following dependency conflicts.\n",
            "lida 0.0.10 requires fastapi, which is not installed.\n",
            "lida 0.0.10 requires kaleido, which is not installed.\n",
            "lida 0.0.10 requires python-multipart, which is not installed.\n",
            "lida 0.0.10 requires uvicorn, which is not installed.\n",
            "jsonschema 4.19.1 requires attrs>=22.2.0, but you have attrs 21.4.0 which is incompatible.\n",
            "referencing 0.30.2 requires attrs>=22.2.0, but you have attrs 21.4.0 which is incompatible.\u001b[0m\u001b[31m\n",
            "\u001b[0mSuccessfully installed attrs-21.4.0 chembl-webresource-client-0.10.8 requests-cache-0.7.5 url-normalize-1.4.3\n"
          ]
        }
      ]
    },
    {
      "cell_type": "code",
      "source": [
        "from chembl_webresource_client.new_client import new_client\n",
        "\n",
        "# Znajdź Lopinavir w bazie ChEMBL\n",
        "target = new_client.target\n",
        "target_query = target.search('Lopinavir')\n",
        "target_entry = target_query[0]\n",
        "\n",
        "# Pobierz informacje o Lopinavir\n",
        "molecule_chembl_id = target_entry['molecule_chembl_id']\n",
        "compound = new_client.molecule\n",
        "compound_query = compound.get(molecule_chembl_id)\n",
        "smiles = compound_query['molecule_structures']['canonical_smiles']\n",
        "molecular_weight = compound_query['molecule_properties']['molecular_weight']\n",
        "\n",
        "print(f\"SMILES: {smiles}\")\n",
        "print(f\"Masa molekuły: {molecular_weight} g/mol\")\n"
      ],
      "metadata": {
        "colab": {
          "base_uri": "https://localhost:8080/",
          "height": 245
        },
        "id": "MHFfvxggViKE",
        "outputId": "6d228676-918b-4c15-a1c6-228fded58725"
      },
      "execution_count": 13,
      "outputs": [
        {
          "output_type": "error",
          "ename": "TypeError",
          "evalue": "ignored",
          "traceback": [
            "\u001b[0;31m---------------------------------------------------------------------------\u001b[0m",
            "\u001b[0;31mTypeError\u001b[0m                                 Traceback (most recent call last)",
            "\u001b[0;32m<ipython-input-13-4729b11ed2ab>\u001b[0m in \u001b[0;36m<cell line: 9>\u001b[0;34m()\u001b[0m\n\u001b[1;32m      7\u001b[0m \u001b[0;34m\u001b[0m\u001b[0m\n\u001b[1;32m      8\u001b[0m \u001b[0;31m# Pobierz informacje o Lopinavir\u001b[0m\u001b[0;34m\u001b[0m\u001b[0;34m\u001b[0m\u001b[0m\n\u001b[0;32m----> 9\u001b[0;31m \u001b[0mmolecule_chembl_id\u001b[0m \u001b[0;34m=\u001b[0m \u001b[0mtarget_entry\u001b[0m\u001b[0;34m[\u001b[0m\u001b[0;34m'molecule_chembl_id'\u001b[0m\u001b[0;34m]\u001b[0m\u001b[0;34m\u001b[0m\u001b[0;34m\u001b[0m\u001b[0m\n\u001b[0m\u001b[1;32m     10\u001b[0m \u001b[0mcompound\u001b[0m \u001b[0;34m=\u001b[0m \u001b[0mnew_client\u001b[0m\u001b[0;34m.\u001b[0m\u001b[0mmolecule\u001b[0m\u001b[0;34m\u001b[0m\u001b[0;34m\u001b[0m\u001b[0m\n\u001b[1;32m     11\u001b[0m \u001b[0mcompound_query\u001b[0m \u001b[0;34m=\u001b[0m \u001b[0mcompound\u001b[0m\u001b[0;34m.\u001b[0m\u001b[0mget\u001b[0m\u001b[0;34m(\u001b[0m\u001b[0mmolecule_chembl_id\u001b[0m\u001b[0;34m)\u001b[0m\u001b[0;34m\u001b[0m\u001b[0;34m\u001b[0m\u001b[0m\n",
            "\u001b[0;31mTypeError\u001b[0m: 'NoneType' object is not subscriptable"
          ]
        }
      ]
    },
    {
      "cell_type": "markdown",
      "source": [
        "zadanie 5"
      ],
      "metadata": {
        "id": "VH0t1Er4YIut"
      }
    },
    {
      "cell_type": "code",
      "source": [
        "import re\n",
        "import pandas as pd\n",
        "from sklearn.feature_extraction.text import TfidfVectorizer\n",
        "from sklearn.metrics.pairwise import cosine_similarity\n",
        "from sklearn.decomposition import PCA\n",
        "import matplotlib.pyplot as plt\n",
        "\n",
        "# Odczytaj identyfikatory prac z pliku\n",
        "with open(\"prace.txt\", \"r\") as file:\n",
        "    pubmed_ids = file.read().splitlines()\n",
        "\n",
        "# Inicjalizacja listy tagów DescriptorName (MeshTerms)\n",
        "meshterms = [[] for _ in range(3)]  # 3 tematyki\n",
        "\n",
        "# Wczytaj tagi DescriptorName (MeshTerms) dla każdej pracy\n",
        "for i, pubmed_id in enumerate(pubmed_ids):\n",
        "    # Tutaj wykonaj zapytanie do PubMed, pobierz tagi DescriptorName\n",
        "    # i dodaj je do odpowiedniej listy w meshterms\n",
        "    # Dla przykładu, można zasymulować dodawanie tagów w sposób losowy, ps mialam problem z ich pobraniem:\n",
        "    if i % 3 == 0:\n",
        "        meshterms[0].append(\"TagA\")\n",
        "    elif i % 3 == 1:\n",
        "        meshterms[1].append(\"TagB\")\n",
        "    else:\n",
        "        meshterms[2].append(\"TagC\")\n",
        "\n",
        "# Przygotuj dane do analizy TF-IDF\n",
        "tfidf_vectorizer = TfidfVectorizer()\n",
        "tfidf_matrix = tfidf_vectorizer.fit_transform([\" \".join(tags) for tags in meshterms])\n",
        "\n",
        "# Oblicz macierz podobieństw kosinusowych\n",
        "similarity_matrix = cosine_similarity(tfidf_matrix)\n",
        "\n",
        "# Narysuj macierz podobieństw\n",
        "plt.matshow(similarity_matrix, cmap='viridis')\n",
        "plt.title('Macierz Podobieństw')\n",
        "plt.show()\n",
        "\n",
        "# Zastosuj PCA do redukcji wymiarów do 2D\n",
        "pca = PCA(n_components=2)\n",
        "reduced_data = pca.fit_transform(tfidf_matrix.toarray())\n",
        "\n",
        "# Zwizualizuj wyniki PCA\n",
        "plt.scatter(reduced_data[:, 0], reduced_data[:, 1])\n",
        "plt.title('PCA - Redukcja do 2D')\n",
        "plt.show()\n",
        "\n"
      ],
      "metadata": {
        "colab": {
          "base_uri": "https://localhost:8080/",
          "height": 894
        },
        "id": "OYP2hfC7Wg_O",
        "outputId": "228555b3-5378-4b31-c841-01716bccf1a3"
      },
      "execution_count": 15,
      "outputs": [
        {
          "output_type": "display_data",
          "data": {
            "text/plain": [
              "<Figure size 480x480 with 1 Axes>"
            ],
            "image/png": "[encoded data removed]"
          },
          "metadata": {}
        },
        {
          "output_type": "display_data",
          "data": {
            "text/plain": [
              "<Figure size 640x480 with 1 Axes>"
            ],
            "image/png": "[encoded data removed]"
          },
          "metadata": {}
        }
      ]
    }
  ]
}